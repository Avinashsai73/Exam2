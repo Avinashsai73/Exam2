{
 "cells": [
  {
   "cell_type": "markdown",
   "id": "acdad9d0",
   "metadata": {},
   "source": [
    "<center><h1><font color='blue'> Exam 2 <font></h1></center>"
   ]
  },
  {
   "cell_type": "markdown",
   "id": "5a5f2896",
   "metadata": {},
   "source": [
    "<h1><font color='blue'> problem 1 <font></h1>"
   ]
  },
  {
   "cell_type": "code",
   "execution_count": null,
   "id": "6113577c",
   "metadata": {},
   "outputs": [],
   "source": [
    "# Import Python libraries for later use\n",
    "from IPython.display import Javascript, display\n",
    "from ipywidgets import widgets\n",
    "from matplotlib import pyplot as plt\n",
    "from scipy.integrate import solve_ivp\n",
    "from scipy.interpolate import interp1d\n",
    "from scipy.integrate import trapezoid\n",
    "import numpy as np\n",
    "from IPython.display import HTML\n",
    "import pandas as pd\n",
    "import geopandas as pgd\n",
    "from os.path import *\n",
    "import os, sys"
   ]
  },
  {
   "cell_type": "code",
   "execution_count": null,
   "id": "98c6dacd",
   "metadata": {},
   "outputs": [],
   "source": [
    "# Set working directory and read data\n",
    "path = \"C:/videos/Python/Iteration.csv\"\n",
    "os.chdir(path)"
   ]
  },
  {
   "cell_type": "code",
   "execution_count": null,
   "id": "b48545bb",
   "metadata": {},
   "outputs": [],
   "source": [
    "a = pd.read_csv('loadings.csv')"
   ]
  },
  {
   "cell_type": "code",
   "execution_count": null,
   "id": "47b96b3e",
   "metadata": {},
   "outputs": [],
   "source": [
    "a.head(5)"
   ]
  },
  {
   "cell_type": "code",
   "execution_count": null,
   "id": "08e2e845",
   "metadata": {},
   "outputs": [],
   "source": [
    "# extract Coefficient matrix\n",
    "coef = a.iloc[:,1:17]\n",
    "rhs = a['Loadings']"
   ]
  },
  {
   "cell_type": "code",
   "execution_count": null,
   "id": "219468a9",
   "metadata": {},
   "outputs": [],
   "source": [
    "# Find the inverse of the coef matrix\n",
    "coef_mat_inv = np.linalg.inv(coef_mat)"
   ]
  },
  {
   "cell_type": "code",
   "execution_count": null,
   "id": "bdf23cfd",
   "metadata": {},
   "outputs": [],
   "source": [
    "# Multiply inverse with RHS matrix\n",
    "F = np.matmul(coef_mat_inv,rhs_mat)"
   ]
  },
  {
   "cell_type": "code",
   "execution_count": null,
   "id": "5caded8e",
   "metadata": {},
   "outputs": [],
   "source": [
    "# Use UFUNC np.round for 2 decimals\n",
    "F = np.round(F,2)"
   ]
  },
  {
   "cell_type": "code",
   "execution_count": null,
   "id": "4fdbe6f4",
   "metadata": {},
   "outputs": [],
   "source": [
    "# write the forces to a csv file\n",
    "A = list(a.columns) # get column names\n",
    "B = A[1:(len(B)-1)] # triss Members in Nodes"
   ]
  },
  {
   "cell_type": "code",
   "execution_count": null,
   "id": "0e2eae5f",
   "metadata": {},
   "outputs": [],
   "source": [
    "df = pd.DataFrame(rownam,columns = ['Nodes'])\n",
    "df.to_csv('Results.csv')"
   ]
  },
  {
   "cell_type": "code",
   "execution_count": null,
   "id": "1e1f8308",
   "metadata": {},
   "outputs": [],
   "source": [
    "df.to_csv('Results.csv')"
   ]
  },
  {
   "cell_type": "code",
   "execution_count": null,
   "id": "52d2a115",
   "metadata": {},
   "outputs": [],
   "source": [
    "# Add support condition\n",
    "#the add_support_hinged function is used to specify hinge support\n",
    "#the node_id argument is the nodal position at which the  support is placed which is an interger\n",
    "ss.add_support_hinged(node_id=1) \n",
    "#the add_support_roll method is used to specify roller support\n",
    "ss.add_support_roll(node_id=7)"
   ]
  },
  {
   "cell_type": "code",
   "execution_count": null,
   "id": "e6f3ef88",
   "metadata": {},
   "outputs": [],
   "source": [
    "# Add loadings\n",
    "#the point_load method indicate it is a point load \n",
    "#the argument fy indicate it is a vertical force and negative sign indicate downard acting at node 4\n",
    "ss.point_load(Fy=-400, node_id=5) \n",
    "#acting at node 4\n",
    "ss.point_load(Fy=-200, node_id=4)\n",
    "#Fx is a horizontal force acting in the positive direction at node 6\n",
    "ss.point_load(Fx=+10, node_id=6)"
   ]
  },
  {
   "cell_type": "code",
   "execution_count": null,
   "id": "7b9c34c6",
   "metadata": {},
   "outputs": [],
   "source": [
    "#this method compute all the reaction forces and axial forces in the model\n",
    "ss.solve()\n",
    "\n",
    "#this method plot the computed axial forces of the truss elements or members  \n",
    "ss.show_axial_force()"
   ]
  },
  {
   "cell_type": "markdown",
   "id": "e6364272",
   "metadata": {},
   "source": [
    "<h1><font color='blue'> problem 2 <font></h1>"
   ]
  },
  {
   "cell_type": "code",
   "execution_count": null,
   "id": "db55b269",
   "metadata": {},
   "outputs": [],
   "source": [
    "# Import libraries\n",
    "from reliability.Distributions import Weibull_Distribution\n",
    "from reliability.Probability_plotting import plot_points\n",
    "import matplotlib.pyplot as plt"
   ]
  },
  {
   "cell_type": "code",
   "execution_count": null,
   "id": "518f22f0",
   "metadata": {},
   "outputs": [],
   "source": [
    "failures = [150,560,800,1720,5230,6890]\n",
    "right_censored = [340,1130,2470,4210]\n",
    "x,y=plotting_positions(failures=failures,right_censored=right_censored)"
   ]
  },
  {
   "cell_type": "code",
   "execution_count": null,
   "id": "8eafe573",
   "metadata": {},
   "outputs": [],
   "source": [
    "#Cumulative data from excel file\n",
    "dist = Cumulative_Distribution(alpha=0.44,beta=2)\n",
    "data = dist.random_samples(1000,seed=1)"
   ]
  },
  {
   "cell_type": "code",
   "execution_count": null,
   "id": "2deade9f",
   "metadata": {},
   "outputs": [],
   "source": [
    "#ploting the graph\n",
    "failures = [USGS]\n",
    "right_censored = [139671_00065]\n",
    "x,y=plotting_positions(failures=failures,right_censored=right_censored)\n",
    "\n",
    "print('x =',x)\n",
    "print('y =',y"
   ]
  },
  {
   "cell_type": "code",
   "execution_count": null,
   "id": "3278c397",
   "metadata": {},
   "outputs": [],
   "source": [
    "#reading functions\n",
    "functions = ['PDF','CDF','SF','HF','CHF']\n",
    "i = 0"
   ]
  },
  {
   "cell_type": "code",
   "execution_count": null,
   "id": "b8f87448",
   "metadata": {},
   "outputs": [],
   "source": [
    "# for loop of CDF\n",
    "for function in functions:\n",
    "    plt.subplot(151+i)\n",
    "    elif function == 'CDF':\n",
    "        dist.CDF()\n",
    "    plot_points(failures=data,func=function)\n",
    "    plt.title(function)\n",
    "    i+=1\n",
    "plt.gcf().set_size_inches(12,4)\n",
    "plt.tight_layout()"
   ]
  },
  {
   "cell_type": "markdown",
   "id": "2abf5690",
   "metadata": {},
   "source": [
    "https://reliability.readthedocs.io/en/stable/How%20are%20the%20plotting%20positions%20calculated.html"
   ]
  },
  {
   "cell_type": "code",
   "execution_count": null,
   "id": "e6c281e3",
   "metadata": {},
   "outputs": [],
   "source": [
    "plt.show()"
   ]
  },
  {
   "cell_type": "markdown",
   "id": "ce2b1b20",
   "metadata": {},
   "source": [
    "<h1><font color='blue'> problem 3 <font></h1>"
   ]
  },
  {
   "cell_type": "code",
   "execution_count": null,
   "id": "e2538661",
   "metadata": {},
   "outputs": [],
   "source": []
  }
 ],
 "metadata": {
  "kernelspec": {
   "display_name": "Python 3 (ipykernel)",
   "language": "python",
   "name": "python3"
  },
  "language_info": {
   "codemirror_mode": {
    "name": "ipython",
    "version": 3
   },
   "file_extension": ".py",
   "mimetype": "text/x-python",
   "name": "python",
   "nbconvert_exporter": "python",
   "pygments_lexer": "ipython3",
   "version": "3.9.12"
  }
 },
 "nbformat": 4,
 "nbformat_minor": 5
}
